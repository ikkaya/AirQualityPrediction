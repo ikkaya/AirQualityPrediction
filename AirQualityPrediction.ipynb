{
  "nbformat": 4,
  "nbformat_minor": 0,
  "metadata": {
    "colab": {
      "name": "AirQualityPrediction.ipynb",
      "provenance": [],
      "collapsed_sections": [],
      "authorship_tag": "ABX9TyOLr/QISuL4iLUVpL1lMAXz",
      "include_colab_link": true
    },
    "kernelspec": {
      "name": "python3",
      "display_name": "Python 3"
    },
    "language_info": {
      "name": "python"
    }
  },
  "cells": [
    {
      "cell_type": "markdown",
      "metadata": {
        "id": "view-in-github",
        "colab_type": "text"
      },
      "source": [
        "<a href=\"https://colab.research.google.com/github/ikkaya/AirQualityPrediction/blob/main/AirQualityPrediction.ipynb\" target=\"_parent\"><img src=\"https://colab.research.google.com/assets/colab-badge.svg\" alt=\"Open In Colab\"/></a>"
      ]
    },
    {
      "cell_type": "code",
      "metadata": {
        "id": "fpEnbslXkBDL"
      },
      "source": [
        "import pandas as pd\n",
        "import numpy as np\n",
        "\n",
        "from sklearn.model_selection import train_test_split\n",
        "from sklearn.ensemble import RandomForestRegressor\n",
        "from sklearn.metrics import mean_absolute_error\n",
        "from xgboost import XGBRegressor\n",
        "from sklearn.preprocessing import OneHotEncoder"
      ],
      "execution_count": 32,
      "outputs": []
    },
    {
      "cell_type": "markdown",
      "metadata": {
        "id": "N0yhwOs74tye"
      },
      "source": [
        "##Reading Data\n",
        "\n",
        "\n"
      ]
    },
    {
      "cell_type": "code",
      "metadata": {
        "colab": {
          "base_uri": "https://localhost:8080/"
        },
        "id": "55gdjf9MkJtw",
        "outputId": "5c21f91c-6d53-49a4-b30e-494a3575d235"
      },
      "source": [
        "df = pd.read_csv('cities_air_quality_water_pollution.18-10-2021.csv')\n",
        "df.shape"
      ],
      "execution_count": 17,
      "outputs": [
        {
          "output_type": "execute_result",
          "data": {
            "text/plain": [
              "(3963, 5)"
            ]
          },
          "metadata": {},
          "execution_count": 17
        }
      ]
    },
    {
      "cell_type": "markdown",
      "metadata": {
        "id": "HYxXXFBr5QHD"
      },
      "source": [
        "##Exploring and Cleaning Data"
      ]
    },
    {
      "cell_type": "code",
      "metadata": {
        "colab": {
          "base_uri": "https://localhost:8080/",
          "height": 204
        },
        "id": "VymcPfDbkQ7V",
        "outputId": "e3d05e78-341e-4369-9676-f36f85247271"
      },
      "source": [
        "df.head()"
      ],
      "execution_count": 18,
      "outputs": [
        {
          "output_type": "execute_result",
          "data": {
            "text/html": [
              "<div>\n",
              "<style scoped>\n",
              "    .dataframe tbody tr th:only-of-type {\n",
              "        vertical-align: middle;\n",
              "    }\n",
              "\n",
              "    .dataframe tbody tr th {\n",
              "        vertical-align: top;\n",
              "    }\n",
              "\n",
              "    .dataframe thead th {\n",
              "        text-align: right;\n",
              "    }\n",
              "</style>\n",
              "<table border=\"1\" class=\"dataframe\">\n",
              "  <thead>\n",
              "    <tr style=\"text-align: right;\">\n",
              "      <th></th>\n",
              "      <th>City</th>\n",
              "      <th>\"Region\"</th>\n",
              "      <th>\"Country\"</th>\n",
              "      <th>\"AirQuality\"</th>\n",
              "      <th>\"WaterPollution\"</th>\n",
              "    </tr>\n",
              "  </thead>\n",
              "  <tbody>\n",
              "    <tr>\n",
              "      <th>0</th>\n",
              "      <td>New York City</td>\n",
              "      <td>\"New York\"</td>\n",
              "      <td>\"United States of America\"</td>\n",
              "      <td>46.816038</td>\n",
              "      <td>49.504950</td>\n",
              "    </tr>\n",
              "    <tr>\n",
              "      <th>1</th>\n",
              "      <td>Washington, D.C.</td>\n",
              "      <td>\"District of Columbia\"</td>\n",
              "      <td>\"United States of America\"</td>\n",
              "      <td>66.129032</td>\n",
              "      <td>49.107143</td>\n",
              "    </tr>\n",
              "    <tr>\n",
              "      <th>2</th>\n",
              "      <td>San Francisco</td>\n",
              "      <td>\"California\"</td>\n",
              "      <td>\"United States of America\"</td>\n",
              "      <td>60.514019</td>\n",
              "      <td>43.000000</td>\n",
              "    </tr>\n",
              "    <tr>\n",
              "      <th>3</th>\n",
              "      <td>Berlin</td>\n",
              "      <td>\"\"</td>\n",
              "      <td>\"Germany\"</td>\n",
              "      <td>62.364130</td>\n",
              "      <td>28.612717</td>\n",
              "    </tr>\n",
              "    <tr>\n",
              "      <th>4</th>\n",
              "      <td>Los Angeles</td>\n",
              "      <td>\"California\"</td>\n",
              "      <td>\"United States of America\"</td>\n",
              "      <td>36.621622</td>\n",
              "      <td>61.299435</td>\n",
              "    </tr>\n",
              "  </tbody>\n",
              "</table>\n",
              "</div>"
            ],
            "text/plain": [
              "               City                 \"Region\"  ...  \"AirQuality\"   \"WaterPollution\"\n",
              "0     New York City               \"New York\"  ...     46.816038          49.504950\n",
              "1  Washington, D.C.   \"District of Columbia\"  ...     66.129032          49.107143\n",
              "2     San Francisco             \"California\"  ...     60.514019          43.000000\n",
              "3            Berlin                       \"\"  ...     62.364130          28.612717\n",
              "4       Los Angeles             \"California\"  ...     36.621622          61.299435\n",
              "\n",
              "[5 rows x 5 columns]"
            ]
          },
          "metadata": {},
          "execution_count": 18
        }
      ]
    },
    {
      "cell_type": "code",
      "metadata": {
        "colab": {
          "base_uri": "https://localhost:8080/",
          "height": 204
        },
        "id": "FeizY4CikTWs",
        "outputId": "b545409b-d937-4a10-a7d8-d14e9f35f8b2"
      },
      "source": [
        "df= df.rename(columns={' \"Region\"': 'Region', ' \"Country\"': 'Country', ' \"AirQuality\"': 'AirQuality', ' \"WaterPollution\"':'WaterPollution'})\n",
        "df.head()"
      ],
      "execution_count": 19,
      "outputs": [
        {
          "output_type": "execute_result",
          "data": {
            "text/html": [
              "<div>\n",
              "<style scoped>\n",
              "    .dataframe tbody tr th:only-of-type {\n",
              "        vertical-align: middle;\n",
              "    }\n",
              "\n",
              "    .dataframe tbody tr th {\n",
              "        vertical-align: top;\n",
              "    }\n",
              "\n",
              "    .dataframe thead th {\n",
              "        text-align: right;\n",
              "    }\n",
              "</style>\n",
              "<table border=\"1\" class=\"dataframe\">\n",
              "  <thead>\n",
              "    <tr style=\"text-align: right;\">\n",
              "      <th></th>\n",
              "      <th>City</th>\n",
              "      <th>Region</th>\n",
              "      <th>Country</th>\n",
              "      <th>AirQuality</th>\n",
              "      <th>WaterPollution</th>\n",
              "    </tr>\n",
              "  </thead>\n",
              "  <tbody>\n",
              "    <tr>\n",
              "      <th>0</th>\n",
              "      <td>New York City</td>\n",
              "      <td>\"New York\"</td>\n",
              "      <td>\"United States of America\"</td>\n",
              "      <td>46.816038</td>\n",
              "      <td>49.504950</td>\n",
              "    </tr>\n",
              "    <tr>\n",
              "      <th>1</th>\n",
              "      <td>Washington, D.C.</td>\n",
              "      <td>\"District of Columbia\"</td>\n",
              "      <td>\"United States of America\"</td>\n",
              "      <td>66.129032</td>\n",
              "      <td>49.107143</td>\n",
              "    </tr>\n",
              "    <tr>\n",
              "      <th>2</th>\n",
              "      <td>San Francisco</td>\n",
              "      <td>\"California\"</td>\n",
              "      <td>\"United States of America\"</td>\n",
              "      <td>60.514019</td>\n",
              "      <td>43.000000</td>\n",
              "    </tr>\n",
              "    <tr>\n",
              "      <th>3</th>\n",
              "      <td>Berlin</td>\n",
              "      <td>\"\"</td>\n",
              "      <td>\"Germany\"</td>\n",
              "      <td>62.364130</td>\n",
              "      <td>28.612717</td>\n",
              "    </tr>\n",
              "    <tr>\n",
              "      <th>4</th>\n",
              "      <td>Los Angeles</td>\n",
              "      <td>\"California\"</td>\n",
              "      <td>\"United States of America\"</td>\n",
              "      <td>36.621622</td>\n",
              "      <td>61.299435</td>\n",
              "    </tr>\n",
              "  </tbody>\n",
              "</table>\n",
              "</div>"
            ],
            "text/plain": [
              "               City                   Region  ... AirQuality  WaterPollution\n",
              "0     New York City               \"New York\"  ...  46.816038       49.504950\n",
              "1  Washington, D.C.   \"District of Columbia\"  ...  66.129032       49.107143\n",
              "2     San Francisco             \"California\"  ...  60.514019       43.000000\n",
              "3            Berlin                       \"\"  ...  62.364130       28.612717\n",
              "4       Los Angeles             \"California\"  ...  36.621622       61.299435\n",
              "\n",
              "[5 rows x 5 columns]"
            ]
          },
          "metadata": {},
          "execution_count": 19
        }
      ]
    },
    {
      "cell_type": "code",
      "metadata": {
        "colab": {
          "base_uri": "https://localhost:8080/"
        },
        "id": "BwQrQugNkVQt",
        "outputId": "e9993406-23f0-441a-e911-1c6bdb7a345e"
      },
      "source": [
        "df.info()"
      ],
      "execution_count": 20,
      "outputs": [
        {
          "output_type": "stream",
          "name": "stdout",
          "text": [
            "<class 'pandas.core.frame.DataFrame'>\n",
            "RangeIndex: 3963 entries, 0 to 3962\n",
            "Data columns (total 5 columns):\n",
            " #   Column          Non-Null Count  Dtype  \n",
            "---  ------          --------------  -----  \n",
            " 0   City            3963 non-null   object \n",
            " 1   Region          3963 non-null   object \n",
            " 2   Country         3963 non-null   object \n",
            " 3   AirQuality      3963 non-null   float64\n",
            " 4   WaterPollution  3963 non-null   float64\n",
            "dtypes: float64(2), object(3)\n",
            "memory usage: 154.9+ KB\n"
          ]
        }
      ]
    },
    {
      "cell_type": "markdown",
      "metadata": {
        "id": "ixRSJakX5ZJb"
      },
      "source": [
        "There are categorical and numerical features in the dataset."
      ]
    },
    {
      "cell_type": "code",
      "metadata": {
        "colab": {
          "base_uri": "https://localhost:8080/"
        },
        "id": "Ls-SmD2jkZ5x",
        "outputId": "2ce500b1-3266-412f-c088-88a5e6212b08"
      },
      "source": [
        "# Checking missing values:\n",
        "\n",
        "print(df.isna().sum())\n",
        "\n",
        "# Checking duplicated values:\n",
        "\n",
        "print(df.duplicated().sum())"
      ],
      "execution_count": 21,
      "outputs": [
        {
          "output_type": "stream",
          "name": "stdout",
          "text": [
            "City              0\n",
            "Region            0\n",
            "Country           0\n",
            "AirQuality        0\n",
            "WaterPollution    0\n",
            "dtype: int64\n",
            "0\n"
          ]
        }
      ]
    },
    {
      "cell_type": "markdown",
      "metadata": {
        "id": "HG8x8Ikg5d1M"
      },
      "source": [
        "\n",
        "Unfortunately, we could not catch the empty (\"\") values in the Region column of the dataset."
      ]
    },
    {
      "cell_type": "code",
      "metadata": {
        "colab": {
          "base_uri": "https://localhost:8080/",
          "height": 204
        },
        "id": "k6W3BHx7kc1N",
        "outputId": "4dc66447-89b2-47fc-e3e8-90b9d9692b54"
      },
      "source": [
        "#Elimination of Region column:\n",
        "df = df.drop(columns= ['Region'])\n",
        "df.head()"
      ],
      "execution_count": 22,
      "outputs": [
        {
          "output_type": "execute_result",
          "data": {
            "text/html": [
              "<div>\n",
              "<style scoped>\n",
              "    .dataframe tbody tr th:only-of-type {\n",
              "        vertical-align: middle;\n",
              "    }\n",
              "\n",
              "    .dataframe tbody tr th {\n",
              "        vertical-align: top;\n",
              "    }\n",
              "\n",
              "    .dataframe thead th {\n",
              "        text-align: right;\n",
              "    }\n",
              "</style>\n",
              "<table border=\"1\" class=\"dataframe\">\n",
              "  <thead>\n",
              "    <tr style=\"text-align: right;\">\n",
              "      <th></th>\n",
              "      <th>City</th>\n",
              "      <th>Country</th>\n",
              "      <th>AirQuality</th>\n",
              "      <th>WaterPollution</th>\n",
              "    </tr>\n",
              "  </thead>\n",
              "  <tbody>\n",
              "    <tr>\n",
              "      <th>0</th>\n",
              "      <td>New York City</td>\n",
              "      <td>\"United States of America\"</td>\n",
              "      <td>46.816038</td>\n",
              "      <td>49.504950</td>\n",
              "    </tr>\n",
              "    <tr>\n",
              "      <th>1</th>\n",
              "      <td>Washington, D.C.</td>\n",
              "      <td>\"United States of America\"</td>\n",
              "      <td>66.129032</td>\n",
              "      <td>49.107143</td>\n",
              "    </tr>\n",
              "    <tr>\n",
              "      <th>2</th>\n",
              "      <td>San Francisco</td>\n",
              "      <td>\"United States of America\"</td>\n",
              "      <td>60.514019</td>\n",
              "      <td>43.000000</td>\n",
              "    </tr>\n",
              "    <tr>\n",
              "      <th>3</th>\n",
              "      <td>Berlin</td>\n",
              "      <td>\"Germany\"</td>\n",
              "      <td>62.364130</td>\n",
              "      <td>28.612717</td>\n",
              "    </tr>\n",
              "    <tr>\n",
              "      <th>4</th>\n",
              "      <td>Los Angeles</td>\n",
              "      <td>\"United States of America\"</td>\n",
              "      <td>36.621622</td>\n",
              "      <td>61.299435</td>\n",
              "    </tr>\n",
              "  </tbody>\n",
              "</table>\n",
              "</div>"
            ],
            "text/plain": [
              "               City                      Country  AirQuality  WaterPollution\n",
              "0     New York City   \"United States of America\"   46.816038       49.504950\n",
              "1  Washington, D.C.   \"United States of America\"   66.129032       49.107143\n",
              "2     San Francisco   \"United States of America\"   60.514019       43.000000\n",
              "3            Berlin                    \"Germany\"   62.364130       28.612717\n",
              "4       Los Angeles   \"United States of America\"   36.621622       61.299435"
            ]
          },
          "metadata": {},
          "execution_count": 22
        }
      ]
    },
    {
      "cell_type": "markdown",
      "metadata": {
        "id": "BiwEt6Vk5t4y"
      },
      "source": [
        "##Data Analysis"
      ]
    },
    {
      "cell_type": "markdown",
      "metadata": {
        "id": "R7PffpkhtznG"
      },
      "source": [
        "It is possible to make analyses with the dataset according to the interests of people."
      ]
    },
    {
      "cell_type": "code",
      "metadata": {
        "colab": {
          "base_uri": "https://localhost:8080/",
          "height": 142
        },
        "id": "6h_bDrCn5p2B",
        "outputId": "986c8407-d93f-484a-d7a4-32c6fb5673f5"
      },
      "source": [
        "df.loc[(df[\"Country\"]== ' \"Turkey\"') & (df[\"AirQuality\"] == 100.0)]"
      ],
      "execution_count": 23,
      "outputs": [
        {
          "output_type": "execute_result",
          "data": {
            "text/html": [
              "<div>\n",
              "<style scoped>\n",
              "    .dataframe tbody tr th:only-of-type {\n",
              "        vertical-align: middle;\n",
              "    }\n",
              "\n",
              "    .dataframe tbody tr th {\n",
              "        vertical-align: top;\n",
              "    }\n",
              "\n",
              "    .dataframe thead th {\n",
              "        text-align: right;\n",
              "    }\n",
              "</style>\n",
              "<table border=\"1\" class=\"dataframe\">\n",
              "  <thead>\n",
              "    <tr style=\"text-align: right;\">\n",
              "      <th></th>\n",
              "      <th>City</th>\n",
              "      <th>Country</th>\n",
              "      <th>AirQuality</th>\n",
              "      <th>WaterPollution</th>\n",
              "    </tr>\n",
              "  </thead>\n",
              "  <tbody>\n",
              "    <tr>\n",
              "      <th>1768</th>\n",
              "      <td>Adapazari</td>\n",
              "      <td>\"Turkey\"</td>\n",
              "      <td>100.0</td>\n",
              "      <td>75.0</td>\n",
              "    </tr>\n",
              "    <tr>\n",
              "      <th>2084</th>\n",
              "      <td>Fethiye</td>\n",
              "      <td>\"Turkey\"</td>\n",
              "      <td>100.0</td>\n",
              "      <td>75.0</td>\n",
              "    </tr>\n",
              "    <tr>\n",
              "      <th>2136</th>\n",
              "      <td>Bayburt</td>\n",
              "      <td>\"Turkey\"</td>\n",
              "      <td>100.0</td>\n",
              "      <td>0.0</td>\n",
              "    </tr>\n",
              "  </tbody>\n",
              "</table>\n",
              "</div>"
            ],
            "text/plain": [
              "           City    Country  AirQuality  WaterPollution\n",
              "1768  Adapazari   \"Turkey\"       100.0            75.0\n",
              "2084    Fethiye   \"Turkey\"       100.0            75.0\n",
              "2136    Bayburt   \"Turkey\"       100.0             0.0"
            ]
          },
          "metadata": {},
          "execution_count": 23
        }
      ]
    },
    {
      "cell_type": "code",
      "metadata": {
        "colab": {
          "base_uri": "https://localhost:8080/",
          "height": 669
        },
        "id": "Zzol2wTg510p",
        "outputId": "a59476cb-2b08-4a10-bbd8-6459f32504d0"
      },
      "source": [
        "df_environmentalquality = df.sort_values(['AirQuality','WaterPollution'] ,ascending=(False,True))\n",
        "df_environmentalquality.head(20)"
      ],
      "execution_count": 24,
      "outputs": [
        {
          "output_type": "execute_result",
          "data": {
            "text/html": [
              "<div>\n",
              "<style scoped>\n",
              "    .dataframe tbody tr th:only-of-type {\n",
              "        vertical-align: middle;\n",
              "    }\n",
              "\n",
              "    .dataframe tbody tr th {\n",
              "        vertical-align: top;\n",
              "    }\n",
              "\n",
              "    .dataframe thead th {\n",
              "        text-align: right;\n",
              "    }\n",
              "</style>\n",
              "<table border=\"1\" class=\"dataframe\">\n",
              "  <thead>\n",
              "    <tr style=\"text-align: right;\">\n",
              "      <th></th>\n",
              "      <th>City</th>\n",
              "      <th>Country</th>\n",
              "      <th>AirQuality</th>\n",
              "      <th>WaterPollution</th>\n",
              "    </tr>\n",
              "  </thead>\n",
              "  <tbody>\n",
              "    <tr>\n",
              "      <th>166</th>\n",
              "      <td>Vaduz</td>\n",
              "      <td>\"Liechtenstein\"</td>\n",
              "      <td>100.0</td>\n",
              "      <td>0.0</td>\n",
              "    </tr>\n",
              "    <tr>\n",
              "      <th>266</th>\n",
              "      <td>Ingolstadt</td>\n",
              "      <td>\"Germany\"</td>\n",
              "      <td>100.0</td>\n",
              "      <td>0.0</td>\n",
              "    </tr>\n",
              "    <tr>\n",
              "      <th>305</th>\n",
              "      <td>Sibenik</td>\n",
              "      <td>\"Croatia\"</td>\n",
              "      <td>100.0</td>\n",
              "      <td>0.0</td>\n",
              "    </tr>\n",
              "    <tr>\n",
              "      <th>436</th>\n",
              "      <td>Koprivnica</td>\n",
              "      <td>\"Croatia\"</td>\n",
              "      <td>100.0</td>\n",
              "      <td>0.0</td>\n",
              "    </tr>\n",
              "    <tr>\n",
              "      <th>437</th>\n",
              "      <td>Bjelovar</td>\n",
              "      <td>\"Croatia\"</td>\n",
              "      <td>100.0</td>\n",
              "      <td>0.0</td>\n",
              "    </tr>\n",
              "    <tr>\n",
              "      <th>438</th>\n",
              "      <td>Mary</td>\n",
              "      <td>\"Turkmenistan\"</td>\n",
              "      <td>100.0</td>\n",
              "      <td>0.0</td>\n",
              "    </tr>\n",
              "    <tr>\n",
              "      <th>451</th>\n",
              "      <td>Pematangsiantar</td>\n",
              "      <td>\"Indonesia\"</td>\n",
              "      <td>100.0</td>\n",
              "      <td>0.0</td>\n",
              "    </tr>\n",
              "    <tr>\n",
              "      <th>489</th>\n",
              "      <td>Girona</td>\n",
              "      <td>\"Spain\"</td>\n",
              "      <td>100.0</td>\n",
              "      <td>0.0</td>\n",
              "    </tr>\n",
              "    <tr>\n",
              "      <th>545</th>\n",
              "      <td>Pamplona</td>\n",
              "      <td>\"Spain\"</td>\n",
              "      <td>100.0</td>\n",
              "      <td>0.0</td>\n",
              "    </tr>\n",
              "    <tr>\n",
              "      <th>557</th>\n",
              "      <td>Magelang</td>\n",
              "      <td>\"Indonesia\"</td>\n",
              "      <td>100.0</td>\n",
              "      <td>0.0</td>\n",
              "    </tr>\n",
              "    <tr>\n",
              "      <th>567</th>\n",
              "      <td>Mojokerto</td>\n",
              "      <td>\"Indonesia\"</td>\n",
              "      <td>100.0</td>\n",
              "      <td>0.0</td>\n",
              "    </tr>\n",
              "    <tr>\n",
              "      <th>601</th>\n",
              "      <td>Ronda</td>\n",
              "      <td>\"Spain\"</td>\n",
              "      <td>100.0</td>\n",
              "      <td>0.0</td>\n",
              "    </tr>\n",
              "    <tr>\n",
              "      <th>625</th>\n",
              "      <td>Banjarmasin</td>\n",
              "      <td>\"Indonesia\"</td>\n",
              "      <td>100.0</td>\n",
              "      <td>0.0</td>\n",
              "    </tr>\n",
              "    <tr>\n",
              "      <th>627</th>\n",
              "      <td>Palangkaraya</td>\n",
              "      <td>\"Indonesia\"</td>\n",
              "      <td>100.0</td>\n",
              "      <td>0.0</td>\n",
              "    </tr>\n",
              "    <tr>\n",
              "      <th>642</th>\n",
              "      <td>Backnang</td>\n",
              "      <td>\"Germany\"</td>\n",
              "      <td>100.0</td>\n",
              "      <td>0.0</td>\n",
              "    </tr>\n",
              "    <tr>\n",
              "      <th>648</th>\n",
              "      <td>Kendari</td>\n",
              "      <td>\"Indonesia\"</td>\n",
              "      <td>100.0</td>\n",
              "      <td>0.0</td>\n",
              "    </tr>\n",
              "    <tr>\n",
              "      <th>660</th>\n",
              "      <td>Grosuplje</td>\n",
              "      <td>\"Slovenia\"</td>\n",
              "      <td>100.0</td>\n",
              "      <td>0.0</td>\n",
              "    </tr>\n",
              "    <tr>\n",
              "      <th>667</th>\n",
              "      <td>Skofja Loka</td>\n",
              "      <td>\"Slovenia\"</td>\n",
              "      <td>100.0</td>\n",
              "      <td>0.0</td>\n",
              "    </tr>\n",
              "    <tr>\n",
              "      <th>674</th>\n",
              "      <td>Maldonado</td>\n",
              "      <td>\"Uruguay\"</td>\n",
              "      <td>100.0</td>\n",
              "      <td>0.0</td>\n",
              "    </tr>\n",
              "    <tr>\n",
              "      <th>718</th>\n",
              "      <td>Welwyn Garden City</td>\n",
              "      <td>\"United Kingdom\"</td>\n",
              "      <td>100.0</td>\n",
              "      <td>0.0</td>\n",
              "    </tr>\n",
              "  </tbody>\n",
              "</table>\n",
              "</div>"
            ],
            "text/plain": [
              "                   City            Country  AirQuality  WaterPollution\n",
              "166               Vaduz    \"Liechtenstein\"       100.0             0.0\n",
              "266          Ingolstadt          \"Germany\"       100.0             0.0\n",
              "305             Sibenik          \"Croatia\"       100.0             0.0\n",
              "436          Koprivnica          \"Croatia\"       100.0             0.0\n",
              "437            Bjelovar          \"Croatia\"       100.0             0.0\n",
              "438                Mary     \"Turkmenistan\"       100.0             0.0\n",
              "451     Pematangsiantar        \"Indonesia\"       100.0             0.0\n",
              "489              Girona            \"Spain\"       100.0             0.0\n",
              "545            Pamplona            \"Spain\"       100.0             0.0\n",
              "557            Magelang        \"Indonesia\"       100.0             0.0\n",
              "567           Mojokerto        \"Indonesia\"       100.0             0.0\n",
              "601               Ronda            \"Spain\"       100.0             0.0\n",
              "625         Banjarmasin        \"Indonesia\"       100.0             0.0\n",
              "627        Palangkaraya        \"Indonesia\"       100.0             0.0\n",
              "642            Backnang          \"Germany\"       100.0             0.0\n",
              "648             Kendari        \"Indonesia\"       100.0             0.0\n",
              "660           Grosuplje         \"Slovenia\"       100.0             0.0\n",
              "667         Skofja Loka         \"Slovenia\"       100.0             0.0\n",
              "674           Maldonado          \"Uruguay\"       100.0             0.0\n",
              "718  Welwyn Garden City   \"United Kingdom\"       100.0             0.0"
            ]
          },
          "metadata": {},
          "execution_count": 24
        }
      ]
    },
    {
      "cell_type": "markdown",
      "metadata": {
        "id": "QNZltfMW573l"
      },
      "source": [
        "The above is the list of the top 20 cities which have good environmental quality according to the air quality and the water pollution measurements."
      ]
    },
    {
      "cell_type": "markdown",
      "metadata": {
        "id": "MxGgwKBIu61d"
      },
      "source": [
        "##Selecting The Prediction Target and The Features"
      ]
    },
    {
      "cell_type": "code",
      "metadata": {
        "colab": {
          "base_uri": "https://localhost:8080/",
          "height": 204
        },
        "id": "_SxegwadkfAm",
        "outputId": "5c6462d3-62ed-4d17-8e47-447f7a04668a"
      },
      "source": [
        "y = df['AirQuality']\n",
        "X = df.drop(['AirQuality'], axis=1)\n",
        "X.head()"
      ],
      "execution_count": 25,
      "outputs": [
        {
          "output_type": "execute_result",
          "data": {
            "text/html": [
              "<div>\n",
              "<style scoped>\n",
              "    .dataframe tbody tr th:only-of-type {\n",
              "        vertical-align: middle;\n",
              "    }\n",
              "\n",
              "    .dataframe tbody tr th {\n",
              "        vertical-align: top;\n",
              "    }\n",
              "\n",
              "    .dataframe thead th {\n",
              "        text-align: right;\n",
              "    }\n",
              "</style>\n",
              "<table border=\"1\" class=\"dataframe\">\n",
              "  <thead>\n",
              "    <tr style=\"text-align: right;\">\n",
              "      <th></th>\n",
              "      <th>City</th>\n",
              "      <th>Country</th>\n",
              "      <th>WaterPollution</th>\n",
              "    </tr>\n",
              "  </thead>\n",
              "  <tbody>\n",
              "    <tr>\n",
              "      <th>0</th>\n",
              "      <td>New York City</td>\n",
              "      <td>\"United States of America\"</td>\n",
              "      <td>49.504950</td>\n",
              "    </tr>\n",
              "    <tr>\n",
              "      <th>1</th>\n",
              "      <td>Washington, D.C.</td>\n",
              "      <td>\"United States of America\"</td>\n",
              "      <td>49.107143</td>\n",
              "    </tr>\n",
              "    <tr>\n",
              "      <th>2</th>\n",
              "      <td>San Francisco</td>\n",
              "      <td>\"United States of America\"</td>\n",
              "      <td>43.000000</td>\n",
              "    </tr>\n",
              "    <tr>\n",
              "      <th>3</th>\n",
              "      <td>Berlin</td>\n",
              "      <td>\"Germany\"</td>\n",
              "      <td>28.612717</td>\n",
              "    </tr>\n",
              "    <tr>\n",
              "      <th>4</th>\n",
              "      <td>Los Angeles</td>\n",
              "      <td>\"United States of America\"</td>\n",
              "      <td>61.299435</td>\n",
              "    </tr>\n",
              "  </tbody>\n",
              "</table>\n",
              "</div>"
            ],
            "text/plain": [
              "               City                      Country  WaterPollution\n",
              "0     New York City   \"United States of America\"       49.504950\n",
              "1  Washington, D.C.   \"United States of America\"       49.107143\n",
              "2     San Francisco   \"United States of America\"       43.000000\n",
              "3            Berlin                    \"Germany\"       28.612717\n",
              "4       Los Angeles   \"United States of America\"       61.299435"
            ]
          },
          "metadata": {},
          "execution_count": 25
        }
      ]
    },
    {
      "cell_type": "markdown",
      "metadata": {
        "id": "CHPTjjXE6JVs"
      },
      "source": [
        "##Train-Test Split dataset"
      ]
    },
    {
      "cell_type": "code",
      "metadata": {
        "id": "ETUY17gckz3j"
      },
      "source": [
        "# split the dataset into train and test sets\n",
        "X_train, X_test, y_train, y_test = train_test_split(X, y, test_size = .20 ,random_state=4)"
      ],
      "execution_count": 26,
      "outputs": []
    },
    {
      "cell_type": "code",
      "metadata": {
        "colab": {
          "base_uri": "https://localhost:8080/",
          "height": 419
        },
        "id": "VQaMgcNql7C2",
        "outputId": "5da24657-9f32-43bd-ee84-0376af8cde30"
      },
      "source": [
        "X_test"
      ],
      "execution_count": 27,
      "outputs": [
        {
          "output_type": "execute_result",
          "data": {
            "text/html": [
              "<div>\n",
              "<style scoped>\n",
              "    .dataframe tbody tr th:only-of-type {\n",
              "        vertical-align: middle;\n",
              "    }\n",
              "\n",
              "    .dataframe tbody tr th {\n",
              "        vertical-align: top;\n",
              "    }\n",
              "\n",
              "    .dataframe thead th {\n",
              "        text-align: right;\n",
              "    }\n",
              "</style>\n",
              "<table border=\"1\" class=\"dataframe\">\n",
              "  <thead>\n",
              "    <tr style=\"text-align: right;\">\n",
              "      <th></th>\n",
              "      <th>City</th>\n",
              "      <th>Country</th>\n",
              "      <th>WaterPollution</th>\n",
              "    </tr>\n",
              "  </thead>\n",
              "  <tbody>\n",
              "    <tr>\n",
              "      <th>1780</th>\n",
              "      <td>Wels</td>\n",
              "      <td>\"Austria\"</td>\n",
              "      <td>0.000000</td>\n",
              "    </tr>\n",
              "    <tr>\n",
              "      <th>3102</th>\n",
              "      <td>Camarillo</td>\n",
              "      <td>\"United States of America\"</td>\n",
              "      <td>0.000000</td>\n",
              "    </tr>\n",
              "    <tr>\n",
              "      <th>1035</th>\n",
              "      <td>Charleston</td>\n",
              "      <td>\"United States of America\"</td>\n",
              "      <td>50.000000</td>\n",
              "    </tr>\n",
              "    <tr>\n",
              "      <th>693</th>\n",
              "      <td>Long Beach</td>\n",
              "      <td>\"United States of America\"</td>\n",
              "      <td>32.692308</td>\n",
              "    </tr>\n",
              "    <tr>\n",
              "      <th>3887</th>\n",
              "      <td>Kulai</td>\n",
              "      <td>\"Malaysia\"</td>\n",
              "      <td>50.000000</td>\n",
              "    </tr>\n",
              "    <tr>\n",
              "      <th>...</th>\n",
              "      <td>...</td>\n",
              "      <td>...</td>\n",
              "      <td>...</td>\n",
              "    </tr>\n",
              "    <tr>\n",
              "      <th>3580</th>\n",
              "      <td>Rohtak</td>\n",
              "      <td>\"India\"</td>\n",
              "      <td>25.000000</td>\n",
              "    </tr>\n",
              "    <tr>\n",
              "      <th>3643</th>\n",
              "      <td>Zeeland</td>\n",
              "      <td>\"United States of America\"</td>\n",
              "      <td>0.000000</td>\n",
              "    </tr>\n",
              "    <tr>\n",
              "      <th>1116</th>\n",
              "      <td>Virginia Beach</td>\n",
              "      <td>\"United States of America\"</td>\n",
              "      <td>36.666667</td>\n",
              "    </tr>\n",
              "    <tr>\n",
              "      <th>1489</th>\n",
              "      <td>Lafayette</td>\n",
              "      <td>\"United States of America\"</td>\n",
              "      <td>0.000000</td>\n",
              "    </tr>\n",
              "    <tr>\n",
              "      <th>652</th>\n",
              "      <td>Caceres</td>\n",
              "      <td>\"Spain\"</td>\n",
              "      <td>50.000000</td>\n",
              "    </tr>\n",
              "  </tbody>\n",
              "</table>\n",
              "<p>793 rows × 3 columns</p>\n",
              "</div>"
            ],
            "text/plain": [
              "                City                      Country  WaterPollution\n",
              "1780            Wels                    \"Austria\"        0.000000\n",
              "3102       Camarillo   \"United States of America\"        0.000000\n",
              "1035      Charleston   \"United States of America\"       50.000000\n",
              "693       Long Beach   \"United States of America\"       32.692308\n",
              "3887           Kulai                   \"Malaysia\"       50.000000\n",
              "...              ...                          ...             ...\n",
              "3580          Rohtak                      \"India\"       25.000000\n",
              "3643         Zeeland   \"United States of America\"        0.000000\n",
              "1116  Virginia Beach   \"United States of America\"       36.666667\n",
              "1489       Lafayette   \"United States of America\"        0.000000\n",
              "652          Caceres                      \"Spain\"       50.000000\n",
              "\n",
              "[793 rows x 3 columns]"
            ]
          },
          "metadata": {},
          "execution_count": 27
        }
      ]
    },
    {
      "cell_type": "markdown",
      "metadata": {
        "id": "gPaQfqRF6Z1L"
      },
      "source": [
        "##Preprocessing and Modeling\n"
      ]
    },
    {
      "cell_type": "markdown",
      "metadata": {
        "id": "22W1Z112iF06"
      },
      "source": [
        "There's a lot of non-numeric data. We will get an error if we try to use these variables into our models without preprocessing them first. "
      ]
    },
    {
      "cell_type": "code",
      "metadata": {
        "colab": {
          "base_uri": "https://localhost:8080/"
        },
        "id": "dBpIEimRoxjI",
        "outputId": "999fb084-cdb5-41ca-b8fb-0ea392acae6d"
      },
      "source": [
        "# Get list of categorical variables\n",
        "t = (X_train.dtypes == 'object')\n",
        "object_cols = list(t[t].index)\n",
        "\n",
        "print(\"Categorical variables:\")\n",
        "print(object_cols)"
      ],
      "execution_count": 28,
      "outputs": [
        {
          "output_type": "stream",
          "name": "stdout",
          "text": [
            "Categorical variables:\n",
            "['City', 'Country']\n"
          ]
        }
      ]
    },
    {
      "cell_type": "markdown",
      "metadata": {
        "id": "W1dPNE-LiqHY"
      },
      "source": [
        "As a preprocessing approach, we can use One-Hot Encoding and the OneHotEncoder class from scikit-learn to get one-hot encodings. "
      ]
    },
    {
      "cell_type": "code",
      "metadata": {
        "id": "XM65xK9goxfj"
      },
      "source": [
        "# Apply one-hot encoder to each column with categorical data\n",
        "OH_encoder = OneHotEncoder(handle_unknown='ignore', sparse=False)\n",
        "OH_cols_train = pd.DataFrame(OH_encoder.fit_transform(X_train[object_cols]))\n",
        "OH_cols_test = pd.DataFrame(OH_encoder.transform(X_test[object_cols]))\n",
        "\n",
        "# One-hot encoding removed index; put it back\n",
        "OH_cols_train.index = X_train.index\n",
        "OH_cols_test.index = X_test.index\n",
        "\n",
        "# Remove categorical columns (will replace with one-hot encoding)\n",
        "num_X_train = X_train.drop(object_cols, axis=1)\n",
        "num_X_test = X_test.drop(object_cols, axis=1)\n",
        "\n",
        "# Add one-hot encoded columns to numerical features\n",
        "OH_X_train = pd.concat([num_X_train, OH_cols_train], axis=1)\n",
        "OH_X_test = pd.concat([num_X_test, OH_cols_test], axis=1)\n"
      ],
      "execution_count": 29,
      "outputs": []
    },
    {
      "cell_type": "markdown",
      "metadata": {
        "id": "XDErN4wjsHhZ"
      },
      "source": [
        "**Random Forest Model**\n",
        "\n",
        "We build a random forest model by using the RandomForestRegressor class."
      ]
    },
    {
      "cell_type": "code",
      "metadata": {
        "colab": {
          "base_uri": "https://localhost:8080/"
        },
        "id": "UxDfX20Hrb6W",
        "outputId": "f00e16dc-ff11-473e-b4c3-f6c02b97d447"
      },
      "source": [
        "rf_model = RandomForestRegressor(n_estimators=100, random_state=0)\n",
        "rf_model.fit(OH_X_train, y_train)\n",
        "rf_predictions = rf_model.predict(OH_X_test)\n",
        "rf_model_score= rf_model.score(OH_X_test, y_test)\n",
        "print(\"Mean Absolute Error: \", mean_absolute_error(y_test, rf_predictions))\n",
        "print(\"Accuracy: \", rf_model_score)"
      ],
      "execution_count": 30,
      "outputs": [
        {
          "output_type": "stream",
          "name": "stdout",
          "text": [
            "Mean Absolute Error:  15.820076358801876\n",
            "Accuracy:  0.4453179264933825\n"
          ]
        }
      ]
    },
    {
      "cell_type": "markdown",
      "metadata": {
        "id": "bkVYe0lJwjWk"
      },
      "source": [
        "Although having a good mean absolute error result, the accuracy of the model is quite a bit low.\n",
        "The problem can be related to the data samples or our model."
      ]
    },
    {
      "cell_type": "markdown",
      "metadata": {
        "id": "Vfxry8HDrKK1"
      },
      "source": [
        "**XGBoost Model**\n",
        "\n",
        "XGBoost is a better modeling technique for structured data. We can use it to obtain a more accurate model."
      ]
    },
    {
      "cell_type": "code",
      "metadata": {
        "colab": {
          "base_uri": "https://localhost:8080/"
        },
        "id": "nTkIH_Tosr5i",
        "outputId": "59afcc28-1d36-40f9-c199-29e3b39ff3fb"
      },
      "source": [
        "my_model = XGBRegressor(n_estimators=1000, learning_rate=0.05)\n",
        "my_model.fit(OH_X_train, y_train)\n",
        "predictions = my_model.predict(OH_X_test)\n",
        "my_model_score = my_model.score(OH_X_test, y_test)\n",
        "print(\"Mean Absolute Error: \", mean_absolute_error(y_test, predictions))\n",
        "print(\"Accuracy: \", my_model_score)"
      ],
      "execution_count": 31,
      "outputs": [
        {
          "output_type": "stream",
          "name": "stdout",
          "text": [
            "[11:03:10] WARNING: /workspace/src/objective/regression_obj.cu:152: reg:linear is now deprecated in favor of reg:squarederror.\n",
            "Mean Absolute Error:  16.806899074952714\n",
            "Accuracy:  0.4906244064643963\n"
          ]
        }
      ]
    },
    {
      "cell_type": "markdown",
      "metadata": {
        "id": "mQqn1cMnqsgG"
      },
      "source": [
        "XGBoost has a few parameters that can dramatically affect accuracy and training speed. It is possible to improve the accuracy and reduce the mean absolute error values by tuning these parameters. If we assume not having a problem with the dataset, experimenting with a different algorithm or cross-validation technique is also can be required to improve our machine learning model's accuracy."
      ]
    },
    {
      "cell_type": "code",
      "metadata": {
        "id": "Jf3Hzbz6vlvu"
      },
      "source": [
        ""
      ],
      "execution_count": null,
      "outputs": []
    }
  ]
}